{
 "cells": [
  {
   "cell_type": "code",
   "execution_count": null,
   "metadata": {},
   "outputs": [],
   "source": [
    "import numpy as np"
   ]
  },
  {
   "cell_type": "markdown",
   "metadata": {},
   "source": [
    "### 토이 회귀 데이터셋"
   ]
  },
  {
   "cell_type": "code",
   "execution_count": null,
   "metadata": {},
   "outputs": [],
   "source": [
    "# 가상의 데이터셋을 샘플링하기 위한 넘파이 사용\n",
    "\n",
    "# 가상 데이터 생성\n",
    "N = 100\n",
    "w_true = 5\n",
    "b_true = 2\n",
    "noise_scale = .1\n",
    "\n",
    "x_np = np.random.rand(N, 1)\n",
    "# print(x_np)\n",
    "noise = np.random.normal(scale = noise_scale, size = (N, 1))\n",
    "# print(noise)\n",
    "\n",
    "# y_np = w_true * x_np + b_true + noise\n",
    "# y_np의 형태를 (N, )으로 변환\n",
    "y_np = np.reshape(w_true * x_np + b_true + noise, (-1))\n",
    "print(y_np)"
   ]
  },
  {
   "cell_type": "code",
   "execution_count": null,
   "metadata": {},
   "outputs": [],
   "source": [
    "import matplotlib.pyplot as plt\n",
    "\n",
    "plt.scatter(x_np, y_np)\n",
    "plt.xlabel(\"x\")\n",
    "plt.ylabel(\"y\")\n",
    "plt.xlim(0, 1)\n",
    "plt.title(\"Toy Linear Regression Data\") #, \"r\"$y = 5x + 2 + N(0, 1)$\")\n",
    "plt.show()"
   ]
  },
  {
   "cell_type": "markdown",
   "metadata": {},
   "source": [
    "### 토이 분류 데이터셋"
   ]
  },
  {
   "cell_type": "code",
   "execution_count": null,
   "metadata": {},
   "outputs": [],
   "source": [
    "# 넘파이로 토이 분류 데이터셋 샘플링하기\n",
    "\n",
    "# 가상 데이터 생성\n",
    "N = 100\n",
    "\n",
    "# 0은 (-1, -1)을 중심으로 가우스 생성\n",
    "# 엡실론은 .1\n",
    "x_zeros = np.random.multivariate_normal(\n",
    "    mean=np.array((-1, -1)), cov=.1*np.eye(2), size=(N//2,))\n",
    "y_zeros = np.zeros((N//2,))\n",
    "\n",
    "# 1은 (1, 1)을 중심으로 가우스 생성\n",
    "# 엡실론은 .1\n",
    "x_ones = np.random.multivariate_normal(\n",
    "    mean=np.array((1, 1)), cov=.1*np.eye(2), size=(N//2,))\n",
    "y_ones = np.ones((N//2,))\n",
    "\n",
    "x_np = np.vstack([x_zeros, x_ones])\n",
    "y_np = np.concatenate([y_zeros, y_ones])"
   ]
  },
  {
   "cell_type": "code",
   "execution_count": null,
   "metadata": {},
   "outputs": [],
   "source": [
    "x_np"
   ]
  },
  {
   "cell_type": "code",
   "execution_count": null,
   "metadata": {},
   "outputs": [],
   "source": [
    "y_np"
   ]
  },
  {
   "cell_type": "code",
   "execution_count": null,
   "metadata": {},
   "outputs": [],
   "source": [
    "import matplotlib.pyplot as plt\n",
    "\n",
    "plt.clf()\n",
    "\n",
    "plt.xlabel(r\"$x_1$\")\n",
    "plt.ylabel(r\"$x_2$\")\n",
    "plt.title(\"Toy Logistic Regression Data\")\n",
    "plt.xlim(-2, 2)\n",
    "plt.ylim(-2, 2)\n",
    "\n",
    "plt.scatter(x_zeros[:, 0], x_zeros[:, 1], color=\"blue\")\n",
    "plt.scatter(x_ones[:, 0], x_ones[:, 1], color=\"red\")\n",
    "\n",
    "plt.show()"
   ]
  },
  {
   "cell_type": "code",
   "execution_count": null,
   "metadata": {},
   "outputs": [],
   "source": [
    "a = np.array([1])\n",
    "b = np.array([1, 2, 3, 4])\n",
    "c = np.array([[1], [2], [3], [4]])\n",
    "print(a.shape)\n",
    "print(a)\n",
    "print(b.shape)\n",
    "print(b)\n",
    "print(c.shape)\n",
    "print(c)"
   ]
  },
  {
   "cell_type": "code",
   "execution_count": null,
   "metadata": {},
   "outputs": [],
   "source": [
    "import tensorflow as tf"
   ]
  },
  {
   "cell_type": "code",
   "execution_count": null,
   "metadata": {},
   "outputs": [],
   "source": [
    "# fetch(출력) 사용하기\n",
    "\n",
    "a = tf.placeholder(tf.float32, shape=(1,))\n",
    "b = tf.placeholder(tf.float32, shape=(1,))\n",
    "c = a + b\n",
    "print(a)\n",
    "print(b)\n",
    "print(c)"
   ]
  },
  {
   "cell_type": "code",
   "execution_count": null,
   "metadata": {
    "scrolled": true
   },
   "outputs": [],
   "source": [
    "with tf.Session() as sess :\n",
    "    c_eval = sess.run(c, {a : [1.], b : [2.]})\n",
    "    print(c_eval)"
   ]
  },
  {
   "cell_type": "code",
   "execution_count": null,
   "metadata": {},
   "outputs": [],
   "source": []
  },
  {
   "cell_type": "code",
   "execution_count": null,
   "metadata": {},
   "outputs": [],
   "source": [
    "# 플레이스홀더를 구성하기 위해 네임 스코프 사용하기\n",
    "\n",
    "N = 5\n",
    "with tf.name_scope(\"placeholders\") :\n",
    "    x = tf.placeholder(tf.float32, (N, 1))\n",
    "    y = tf.placeholder(tf.float32, (N,))\n",
    "\n",
    "print(x)    "
   ]
  },
  {
   "cell_type": "code",
   "execution_count": null,
   "metadata": {},
   "outputs": [],
   "source": []
  },
  {
   "cell_type": "markdown",
   "metadata": {},
   "source": [
    "#### 옵티마이저\n",
    "\n",
    "- tf.train.GradientDescentOptimizer\n",
    "- tf.train.MomentumOptimizer\n",
    "- tf.train.AdagradOptimizer\n",
    "- tf.train.AdamOptimizer "
   ]
  },
  {
   "cell_type": "code",
   "execution_count": null,
   "metadata": {},
   "outputs": [],
   "source": [
    "# 텐서플로 연산 그래프에 Adam 옵티마이저 추가하기\n",
    "\n",
    "# 미리 정의된 손실 l을 최소화하는 옵티마이저 추가 코드\n",
    "learning_rate = 0.001\n",
    "with tf.name_scope(\"optim\") :\n",
    "    train_op = tf.train.AdamOptimizer(learning_rate).minimize(l)"
   ]
  },
  {
   "cell_type": "code",
   "execution_count": null,
   "metadata": {},
   "outputs": [],
   "source": []
  },
  {
   "cell_type": "code",
   "execution_count": null,
   "metadata": {},
   "outputs": [],
   "source": [
    "# 기울기 직접 구하기\n",
    "\n",
    "W = tf.Variable((3,))\n",
    "l = tf.reduce_sum(W)\n",
    "gradW = tf.gradients(l, W)"
   ]
  },
  {
   "cell_type": "code",
   "execution_count": null,
   "metadata": {},
   "outputs": [],
   "source": []
  },
  {
   "cell_type": "code",
   "execution_count": null,
   "metadata": {},
   "outputs": [],
   "source": [
    "# 손실을 위한 요약 합치기\n",
    "\n",
    "with tf.name_scope(\"summaries\") :\n",
    "    tf.summary.scalar(\"loss\", l)\n",
    "    merged = tf.summary.merge_all()\n",
    "    \n",
    "train_writer = tf.summary.FileWriter('/tmp/lr-train', tf.get_default_graph())"
   ]
  },
  {
   "cell_type": "code",
   "execution_count": null,
   "metadata": {},
   "outputs": [],
   "source": []
  },
  {
   "cell_type": "code",
   "execution_count": null,
   "metadata": {},
   "outputs": [],
   "source": [
    "# 모델을 학습하는 간단한 예\n",
    "\n",
    "n_steps = 1000\n",
    "with tf.Session() as sess :\n",
    "    sess.run(tf.global_variables_initializer())\n",
    "    \n",
    "    # 모델 학습\n",
    "    for i in range(n_steps) :\n",
    "        feed_dict = {x : x_np, y:y_np}\n",
    "        _, summary, loss = sess.run([train_op, merged, l], feed_dict=feed_dict)\n",
    "        print(\"step %d, loss : %f\" % (i, loss))\n",
    "        train_writer.add_summary(summary, i)"
   ]
  },
  {
   "cell_type": "code",
   "execution_count": null,
   "metadata": {},
   "outputs": [],
   "source": []
  },
  {
   "cell_type": "markdown",
   "metadata": {},
   "source": [
    "### 텐서플로에서 선형 모델 및 로지스틱 모델 학습하기"
   ]
  },
  {
   "cell_type": "markdown",
   "metadata": {},
   "source": [
    "#### 텐서플로의 선형회귀"
   ]
  },
  {
   "cell_type": "code",
   "execution_count": null,
   "metadata": {},
   "outputs": [],
   "source": [
    "## 선형회귀 모델 정의하기\n",
    "\n",
    "# 텐서플로 그래프 생성\n",
    "with tf.name_scope(\"placeholders\") :\n",
    "    x = tf.placeholder(tf.float32, (N, 1))\n",
    "    y = tf.placeholder(tf.float32, (N,))\n",
    "\n",
    "with tf.name_scope(\"weights\") :\n",
    "    # x는 스칼라이므로 W는 단일 학습 가능 가중치\n",
    "    W = tf.Variable(tf.random_normal((1, 1)))\n",
    "    b = tf.Variable(tf.random_normal((1,)))\n",
    "\n",
    "with tf.name_scope(\"prediction\") :\n",
    "    y_pred = tf.matmul(x, W) + b\n",
    "\n",
    "with tf.name_scope(\"loss\") :\n",
    "    l = tf.reduce_sum((y - tf.squeeze(y_pred))**2)\n",
    "    # l = tf.reduce_sum((y-y_pred)**2)\n",
    "    \n",
    "# 학습 연산 추가\n",
    "with tf.name_scope(\"optim\") :\n",
    "    # 위에서 추천한대로 학습 비율을 .001로 설정\n",
    "    train_op = tf.train.AdamOptimizer(.001).minimize(l)\n",
    "\n",
    "with tf.name_scope(\"summaries\") :\n",
    "    tf.summary.scalar(\"loss\", l)\n",
    "    merged = tf.summary.merge_all()\n",
    "    \n",
    "train_writer = tf.summary.FileWriter('/tmp/lr_train', tf.get_default_graph())"
   ]
  },
  {
   "cell_type": "code",
   "execution_count": null,
   "metadata": {},
   "outputs": [],
   "source": [
    "# 선형회귀 모델 학습하기(미니배치 사용 X)\n",
    "\n",
    "n_steps = 1000\n",
    "with tf.Session() as sess :\n",
    "    sess.run(tf.global_variables_initializer())\n",
    "    # 모델 학습\n",
    "    for i in range(n_steps) :\n",
    "        feed_dict = {x : x_np, y : y_np}\n",
    "        _, summary, loss = sess.run([train_op, merged, l], feed_dict=feed_dict)\n",
    "        print(\"step %d, loss : %f\" % (i, loss))\n",
    "        train_writer.add_summary(summary, i)"
   ]
  },
  {
   "cell_type": "code",
   "execution_count": null,
   "metadata": {},
   "outputs": [],
   "source": []
  },
  {
   "cell_type": "code",
   "execution_count": null,
   "metadata": {},
   "outputs": [],
   "source": [
    "import numpy as np\n",
    "np.random.seed(456)\n",
    "import  tensorflow as tf\n",
    "tf.set_random_seed(456)\n",
    "# from matplotlib import rc\n",
    "# rc('text', usetex=True)\n",
    "# import matplotlib.pyplot as plt\n",
    "# from scipy.stats import pearsonr\n",
    "# from sklearn.metrics import mean_squared_error\n",
    "\n",
    "\n",
    "# def pearson_r2_score(y, y_pred):\n",
    "#   \"\"\"Computes Pearson R^2 (square of Pearson correlation).\"\"\"\n",
    "#   return pearsonr(y, y_pred)[0]**2\n",
    "\n",
    "# def rms_score(y_true, y_pred):\n",
    "#   \"\"\"Computes RMS error.\"\"\"\n",
    "#   return np.sqrt(mean_squared_error(y_true, y_pred))\n",
    "\n",
    "# Generate synthetic data\n",
    "N = 100\n",
    "w_true = 5\n",
    "b_true = 2\n",
    "noise_scale = .1\n",
    "x_np = np.random.rand(N, 1)\n",
    "noise = np.random.normal(scale=noise_scale, size=(N, 1))\n",
    "# Convert shape of y_np to (N,)\n",
    "# y_np = w_true * x_np  + b_true + noise\n",
    "y_np = np.reshape(w_true * x_np  + b_true + noise, (-1))\n",
    "\n",
    "# # Save image of the data distribution\n",
    "# plt.scatter(x_np, y_np)\n",
    "# plt.xlabel(\"x\")\n",
    "# plt.ylabel(\"y\")\n",
    "# plt.xlim(0, 1)\n",
    "# plt.title(\"Toy Linear Regression Data, \"\n",
    "#           r\"$y = 5x + 2 + N(0, 1)$\")\n",
    "# plt.savefig(\"lr_data.png\")\n",
    "\n",
    "# Generate tensorflow graph\n",
    "with tf.name_scope(\"placeholders\"):\n",
    "    x = tf.placeholder(tf.float32, (N, 1))\n",
    "    y = tf.placeholder(tf.float32, (N,))\n",
    "with tf.name_scope(\"weights\"):\n",
    "    W = tf.Variable(tf.random_normal((1, 1)))\n",
    "    b = tf.Variable(tf.random_normal((1,)))\n",
    "with tf.name_scope(\"prediction\"):\n",
    "    y_pred = tf.matmul(x, W) + b\n",
    "with tf.name_scope(\"loss\"):\n",
    "    l = tf.reduce_sum((y - tf.squeeze(y_pred))**2)\n",
    "with tf.name_scope(\"optim\"):\n",
    "    train_op = tf.train.AdamOptimizer(.001).minimize(l)\n",
    "\n",
    "with tf.name_scope(\"summaries\"):\n",
    "    tf.summary.scalar(\"loss\", l)\n",
    "    merged = tf.summary.merge_all()\n",
    "\n",
    "train_writer = tf.summary.FileWriter('/tmp/lr-train', tf.get_default_graph())\n",
    "\n",
    "n_steps = 8000\n",
    "with tf.Session() as sess:\n",
    "    sess.run(tf.global_variables_initializer())\n",
    "    # Train model\n",
    "    for i in range(n_steps):\n",
    "        feed_dict = {x: x_np, y: y_np}\n",
    "        _, summary, loss = sess.run([train_op, merged, l], feed_dict=feed_dict)\n",
    "        print(\"step %d, loss: %f\" % (i, loss))\n",
    "        train_writer.add_summary(summary, i)"
   ]
  },
  {
   "cell_type": "code",
   "execution_count": null,
   "metadata": {},
   "outputs": [],
   "source": [
    "tensorboard --logdir=/tmp/lr-train"
   ]
  },
  {
   "cell_type": "code",
   "execution_count": null,
   "metadata": {},
   "outputs": [],
   "source": []
  },
  {
   "cell_type": "markdown",
   "metadata": {},
   "source": [
    "#### 텐서플로의 로지스틱 회귀 → logistic_regression_tf.py"
   ]
  },
  {
   "cell_type": "code",
   "execution_count": null,
   "metadata": {},
   "outputs": [],
   "source": []
  },
  {
   "cell_type": "code",
   "execution_count": null,
   "metadata": {},
   "outputs": [],
   "source": []
  },
  {
   "cell_type": "code",
   "execution_count": null,
   "metadata": {},
   "outputs": [],
   "source": []
  },
  {
   "cell_type": "code",
   "execution_count": null,
   "metadata": {},
   "outputs": [],
   "source": []
  },
  {
   "cell_type": "code",
   "execution_count": null,
   "metadata": {},
   "outputs": [],
   "source": []
  }
 ],
 "metadata": {
  "kernelspec": {
   "display_name": "Python 3",
   "language": "python",
   "name": "python3"
  },
  "language_info": {
   "codemirror_mode": {
    "name": "ipython",
    "version": 3
   },
   "file_extension": ".py",
   "mimetype": "text/x-python",
   "name": "python",
   "nbconvert_exporter": "python",
   "pygments_lexer": "ipython3",
   "version": "3.6.5"
  }
 },
 "nbformat": 4,
 "nbformat_minor": 2
}
